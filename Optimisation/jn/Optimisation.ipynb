{
 "cells": [
  {
   "cell_type": "markdown",
   "metadata": {},
   "source": [
    "## 最適化手法の実装"
   ]
  },
  {
   "cell_type": "code",
   "execution_count": 59,
   "metadata": {},
   "outputs": [],
   "source": [
    "import numpy as np\n",
    "from sympy import *\n",
    "import seaborn as sns\n",
    "from random import randrange\n",
    "import matplotlib.pyplot as plt\n",
    "%matplotlib inline"
   ]
  },
  {
   "cell_type": "markdown",
   "metadata": {},
   "source": [
    "### 最小二乗法"
   ]
  },
  {
   "cell_type": "markdown",
   "metadata": {},
   "source": [
    "課題の関数など必要な関数をそれぞれ定義する\n",
    "$$ f(x_1,x_2) = 10 (x_1^2 - x_2)^2 + (x_1 - 1)^2 $$"
   ]
  },
  {
   "cell_type": "code",
   "execution_count": 2,
   "metadata": {
    "collapsed": true
   },
   "outputs": [],
   "source": [
    "# 関数\n",
    "def f(x):\n",
    "    return 10*(x[0]**2 - x[1])**2 + (x[0] - 1)**2\n",
    "\n",
    "# 導関数\n",
    "def df(x):\n",
    "    return np.array([40*x[0]*(x[0]**2 - x[1]) + 2*x[0] - 2,\n",
    "                     -20*x[0]**2 + 20*x[1]])\n",
    "# ヘッセ行列\n",
    "def hesse(x):\n",
    "    return np.array([[float(120*x[0]**2 - 40*x[1] + 2),float(-40*x[0])],\n",
    "                     [float(-40*x[0]),20]])\n",
    "    \n",
    "# Armijo条件\n",
    "def armijo_method(x,d):\n",
    "    g,t = 0.1,0.5 # 初期条件\n",
    "    b = 1\n",
    "    while f(x+b*d) >= f(x) + g*b*(np.dot(df(x).T,d)):\n",
    "        b = b*t\n",
    "    return b\n",
    "\n",
    "# BFGS公式\n",
    "def BFGS(beta,tmp_new,tmp):\n",
    "    s = tmp_new - tmp\n",
    "    y = df(tmp_new) - df(tmp)\n",
    "    B_s,s_B_s,s_y = np.dot(beta,s),np.dot(np.dot(s.T,beta),s),np.dot(s.T,y)\n",
    "    tmp_beta = beta - np.dot(B_s,B_s.T)/s_B_s + np.dot(y,y.T)/s_y\n",
    "    return tmp_beta"
   ]
  },
  {
   "cell_type": "markdown",
   "metadata": {},
   "source": [
    "初期値, 正定値対称な初期行列をそれぞれ定義する\n",
    "$$\n",
    "x_0 = \n",
    "\\begin{bmatrix}\n",
    "0 \\\\\n",
    "2 \n",
    "\\end{bmatrix}\n",
    "$$\n",
    "\n",
    "$$\n",
    "\\beta_0 = \n",
    "\\begin{bmatrix}\n",
    "1 & -2 \\\\\n",
    "-2 & 6\n",
    "\\end{bmatrix}\n",
    "$$"
   ]
  },
  {
   "cell_type": "code",
   "execution_count": 3,
   "metadata": {
    "collapsed": true
   },
   "outputs": [],
   "source": [
    "# 初期値\n",
    "start_point = np.array([[0],[2]])\n",
    "# 正定値対称な初期行列\n",
    "start_beta = np.array([[1,-2],[-2,6]])"
   ]
  },
  {
   "cell_type": "markdown",
   "metadata": {},
   "source": [
    "最急降下法, ニュートン法, 準ニュートン法の関数をアルゴリズムに従って定義する."
   ]
  },
  {
   "cell_type": "code",
   "execution_count": 4,
   "metadata": {
    "collapsed": true
   },
   "outputs": [],
   "source": [
    "# 最急降下法\n",
    "def gradient_descent_method(point):\n",
    "    eps  = 1e-5 # 終了条件\n",
    "    tmp = point # 点の移動用\n",
    "    history = point # 数値を記録\n",
    "    iteration = 1000 # 最大繰り返し回数\n",
    "    \n",
    "    for i in range(iteration):\n",
    "        d = -df(tmp) # 探索方向\n",
    "        alpha = armijo_method(tmp,d) # ステップ幅\n",
    "        tmp_new = tmp + alpha*d\n",
    "        if np.abs(np.linalg.norm(tmp-tmp_new)) < eps:\n",
    "            break\n",
    "        tmp = tmp_new\n",
    "        history = np.concatenate([history,tmp],axis = 1)\n",
    "    return history.T\n",
    "\n",
    "# ニュートン法\n",
    "def newton_method(point):\n",
    "    eps  = 1e-5 # 終了条件\n",
    "    tmp = point # 点の移動用\n",
    "    history = point # 数値を記録\n",
    "    iteration = 1000 # 最大繰り返し回数\n",
    "    for i in range(iteration):\n",
    "        d = - np.dot(np.linalg.inv(hesse(tmp)),df(tmp)) # 探索方向\n",
    "        tmp_new = tmp + d\n",
    "        if np.abs(np.linalg.norm(tmp-tmp_new)) < eps:\n",
    "            break\n",
    "        tmp = tmp_new\n",
    "        history = np.concatenate([history,tmp],axis = 1)        \n",
    "    return history.T\n",
    "\n",
    "# 準ニュートン法\n",
    "def quasi_newton_method(point,beta):\n",
    "    eps  = 1e-5 # 終了条件\n",
    "    tmp = point # 点の移動用\n",
    "    tmp_b = beta # 正定値行列の変更用\n",
    "     \n",
    "    history = point # 数値を記録\n",
    "    iteration = 1000 # 最大繰り返し回数\n",
    "    \n",
    "    for i in range(iteration):\n",
    "        d = - np.dot(np.linalg.inv(tmp_b),df(tmp)) # 探索方向\n",
    "        alpha = armijo_method(tmp,d) # ステップ幅\n",
    "        tmp_new = tmp + alpha*d\n",
    "        if np.abs(np.linalg.norm(tmp-tmp_new)) < eps:\n",
    "            break\n",
    "        tmp_b = BFGS(tmp_b,tmp_new,tmp) # betaの更新\n",
    "        tmp = tmp_new\n",
    "        history = np.concatenate([history,tmp],axis = 1)        \n",
    "    return history.T"
   ]
  },
  {
   "cell_type": "code",
   "execution_count": 5,
   "metadata": {
    "collapsed": true
   },
   "outputs": [],
   "source": [
    "data_gradient = gradient_descent_method(start_point)\n",
    "data_newton = newton_method(start_point)\n",
    "data_quasi_newton = quasi_newton_method(start_point,start_beta)"
   ]
  },
  {
   "cell_type": "markdown",
   "metadata": {},
   "source": [
    "### 得られた数値データを関数に代入することで, 値の推移を視覚化する"
   ]
  },
  {
   "cell_type": "code",
   "execution_count": 6,
   "metadata": {},
   "outputs": [
    {
     "data": {
      "image/png": "[encoded data removed]",
      "text/plain": [
       "<matplotlib.figure.Figure at 0xce355f8>"
      ]
     },
     "metadata": {},
     "output_type": "display_data"
    }
   ],
   "source": [
    "sns.plt.title('gradient descent')\n",
    "for i in range(len(data_gradient)):\n",
    "    plt.plot(i,f(data_gradient[i]),\"o\")"
   ]
  },
  {
   "cell_type": "markdown",
   "metadata": {},
   "source": [
    "範囲が広すぎてよく分からないので繰り返し回数を30に変更してplot"
   ]
  },
  {
   "cell_type": "code",
   "execution_count": 7,
   "metadata": {},
   "outputs": [
    {
     "data": {
      "image/png": "[encoded data removed]",
      "text/plain": [
       "<matplotlib.figure.Figure at 0xdc99780>"
      ]
     },
     "metadata": {},
     "output_type": "display_data"
    }
   ],
   "source": [
    "sns.plt.title('gradient descent')\n",
    "for i in range(30):\n",
    "    plt.plot(i,f(data_gradient[i]),\"o\")"
   ]
  },
  {
   "cell_type": "code",
   "execution_count": 8,
   "metadata": {
    "scrolled": true
   },
   "outputs": [
    {
     "data": {
      "image/png": "[encoded data removed]",
      "text/plain": [
       "<matplotlib.figure.Figure at 0xd128668>"
      ]
     },
     "metadata": {},
     "output_type": "display_data"
    }
   ],
   "source": [
    "sns.plt.title('newton method')\n",
    "for i in range(len(data_newton)):\n",
    "    plt.plot(i,f(data_newton[i]),\"o\")"
   ]
  },
  {
   "cell_type": "code",
   "execution_count": 9,
   "metadata": {},
   "outputs": [
    {
     "data": {
      "image/png": "[encoded data removed]",
      "text/plain": [
       "<matplotlib.figure.Figure at 0xdfd5080>"
      ]
     },
     "metadata": {},
     "output_type": "display_data"
    }
   ],
   "source": [
    "sns.plt.title('quasi newton method')\n",
    "for i in range(len(data_quasi_newton)):\n",
    "    plt.plot(i,f(data_quasi_newton[i]),\"o\")"
   ]
  },
  {
   "cell_type": "markdown",
   "metadata": {},
   "source": [
    "### 回帰問題\n",
    "\n",
    "回帰問題に対して, 確率的勾配降下法を実装する."
   ]
  },
  {
   "cell_type": "code",
   "execution_count": 149,
   "metadata": {},
   "outputs": [],
   "source": [
    "# 問題サンプルを作成する\n",
    "def generate_train_data():\n",
    "    ''' Create Train Data\n",
    "    # y = x + 0 + e\n",
    "    # e = N(0, 2) - normal distribution\n",
    "    np.random.seed(10)  # For fix random values\n",
    "    '''\n",
    "    \n",
    "    N = 1000\n",
    "    alpha = 5\n",
    "    beta  = 3\n",
    "    e = np.random.normal(0, 3, N)\n",
    "    x = np.random.normal(10,3,N)\n",
    "    y = alpha*x + beta + e\n",
    "    np.random.seed()\n",
    "    np.random.seed()\n",
    "    return np.c_[x,y]\n",
    "# 散布図を作成する\n",
    "def displayScatter(data):\n",
    "    plt.figure(figsize=(9,6))\n",
    "    plt.xlim(0, 22)\n",
    "    plt.scatter(data[:,0],data[:,1], s=10, alpha=0.6)\n",
    "# データをk個に分割\n",
    "def cross_validation_split(data, n_folds):\n",
    "    data_split = np.reshape(data,(n_folds,-1,data.shape[1]))\n",
    "    return data_split\n",
    "# 予測\n",
    "def predict(row,coef):\n",
    "    yhat = coef[0] # constant parameter\n",
    "    for i in range(len(row)-1): # coefficients parameter\n",
    "        yhat += coef[i+1] * row[i] \n",
    "    return yhat\n",
    "# 係数パラメータを予測する\n",
    "def coefficients_sgd(data, learning_rate, n_epoch):\n",
    "    # learning_rate: 学習率, n_epoch: 反復回数\n",
    "    coef = [0.0 for i in range(len(data[0]))]\n",
    "    for epoch in range(n_epoch):\n",
    "        sum_error = 0\n",
    "        for row in data:\n",
    "            yhat = predict(row, coef)\n",
    "            error = yhat - row[-1] # y_hat - y\n",
    "            sum_error += error**2 # 最小二乗誤差\n",
    "            coef[0] = coef[0] - l_rate * error\n",
    "            for i in range(len(row)-1):\n",
    "                coef[i+1] = coef[i+1] - l_rate * error * row[i]\n",
    "            # print('>epoch=%d, lrate=%.3f, error=%.3f' % (epoch, l_rate, sum_error))\n",
    "    return coef\n",
    "# SGDによる線形回帰\n",
    "def linear_regression_sgd(train, test, l_rate, n_epoch):\n",
    "    predictions = list()\n",
    "    coef = coefficients_sgd(train, l_rate, n_epoch)\n",
    "    for row in test:\n",
    "        yhat = predict(row, coef)\n",
    "        predictions.append(yhat)\n",
    "    predictions = np.asarray(predictions)\n",
    "    return(predictions,coef)\n",
    "# main 関数\n",
    "def main(data,n_folds,l_rate,n_epoch):\n",
    "    # データを分割する\n",
    "    data_split = cross_validation_split(data,n_folds)\n",
    "    scores = list() # RMSEを格納する\n",
    "    for fold in range(n_folds):\n",
    "        # Testデータを除く\n",
    "        train = np.delete(data_split,fold,axis=0)\n",
    "        # 二次元配列に戻す\n",
    "        train = np.reshape(train,(-1,data.shape[1]))\n",
    "        # testデータを抽出\n",
    "        test = data_split[0]\n",
    "        # パラメータ推定\n",
    "        pred,coef = linear_regression_sgd(train,test,l_rate, n_epoch)\n",
    "        # RMSE\n",
    "        rmse = np.sum(np.square(pred - test[:,1]))\n",
    "        scores.append(rmse)\n",
    "    return (scores,coef)"
   ]
  },
  {
   "cell_type": "code",
   "execution_count": 150,
   "metadata": {},
   "outputs": [
    {
     "data": {
      "image/png": "[encoded data removed]",
      "text/plain": [
       "<Figure size 648x432 with 1 Axes>"
      ]
     },
     "metadata": {},
     "output_type": "display_data"
    }
   ],
   "source": [
    "# データ生成\n",
    "data = generate_train_data()\n",
    "# 散布図\n",
    "displayScatter(data)"
   ]
  },
  {
   "cell_type": "code",
   "execution_count": 153,
   "metadata": {},
   "outputs": [
    {
     "name": "stdout",
     "output_type": "stream",
     "text": [
      "Mean RMSE: 1722.207\n",
      "[3.6757089760707533, 4.94013624058821]\n"
     ]
    }
   ],
   "source": [
    "# パラメータ\n",
    "l_rate = 0.01\n",
    "n_epoch = 200\n",
    "n_folds = 5\n",
    "# main \n",
    "scores,coef = main(data,n_folds,l_rate,n_epoch)\n",
    "print('Mean RMSE: %.3f' % np.mean(scores))\n",
    "print(coef)"
   ]
  }
 ],
 "metadata": {
  "kernelspec": {
   "display_name": "Python 3",
   "language": "python",
   "name": "python3"
  },
  "language_info": {
   "codemirror_mode": {
    "name": "ipython",
    "version": 3
   },
   "file_extension": ".py",
   "mimetype": "text/x-python",
   "name": "python",
   "nbconvert_exporter": "python",
   "pygments_lexer": "ipython3",
   "version": "3.6.5"
  },
  "toc": {
   "base_numbering": 1,
   "nav_menu": {},
   "number_sections": true,
   "sideBar": true,
   "skip_h1_title": false,
   "title_cell": "Table of Contents",
   "title_sidebar": "Contents",
   "toc_cell": false,
   "toc_position": {},
   "toc_section_display": true,
   "toc_window_display": false
  }
 },
 "nbformat": 4,
 "nbformat_minor": 2
}
