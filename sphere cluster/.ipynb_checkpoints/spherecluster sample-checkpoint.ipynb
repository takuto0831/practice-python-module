{
 "cells": [
  {
   "cell_type": "markdown",
   "metadata": {},
   "source": [
    "spherecluster　実装による解釈"
   ]
  },
  {
   "cell_type": "code",
   "execution_count": 1,
   "metadata": {
    "collapsed": true
   },
   "outputs": [],
   "source": [
    "from __future__ import print_function\n",
    "\n",
    "from sklearn.datasets import fetch_20newsgroups\n",
    "from sklearn.decomposition import TruncatedSVD\n",
    "from sklearn.feature_extraction.text import TfidfVectorizer\n",
    "from sklearn.pipeline import make_pipeline\n",
    "from sklearn.preprocessing import Normalizer\n",
    "from sklearn import metrics\n",
    "\n",
    "import numpy as np\n",
    "from tabulate import tabulate\n",
    "\n",
    "import logging\n",
    "from sklearn.cluster import KMeans\n",
    "\n",
    "import sys\n",
    "sys.path.append('C:/Users/SHIO-160412-4/Desktop/spherecluster')\n",
    "import spherecluster\n",
    "from spherecluster import SphericalKMeans\n",
    "from spherecluster import VonMisesFisherMixture"
   ]
  },
  {
   "cell_type": "code",
   "execution_count": 2,
   "metadata": {
    "collapsed": true
   },
   "outputs": [],
   "source": [
    "# Display progress logs on stdout\n",
    "logging.basicConfig(level=logging.INFO,\n",
    "                    format='%(asctime)s %(levelname)s %(message)s')"
   ]
  },
  {
   "cell_type": "code",
   "execution_count": 3,
   "metadata": {},
   "outputs": [
    {
     "name": "stdout",
     "output_type": "stream",
     "text": [
      "Loading 20 newsgroups dataset for categories:\n",
      "['alt.atheism', 'talk.religion.misc', 'comp.graphics', 'sci.space']\n"
     ]
    }
   ],
   "source": [
    "###############################################################################\n",
    "# Optional params\n",
    "use_LSA = False\n",
    "n_components = 500\n",
    "\n",
    "###############################################################################\n",
    "# Load some categories from the training set\n",
    "categories = [\n",
    "    'alt.atheism',\n",
    "    'talk.religion.misc',\n",
    "    'comp.graphics',\n",
    "    'sci.space',\n",
    "]\n",
    "# Uncomment the following to do the analysis on all the categories\n",
    "#categories = None\n",
    "\n",
    "print(\"Loading 20 newsgroups dataset for categories:\")\n",
    "print(categories)"
   ]
  },
  {
   "cell_type": "code",
   "execution_count": 4,
   "metadata": {
    "collapsed": true
   },
   "outputs": [],
   "source": [
    "dataset = fetch_20newsgroups(subset='all', categories=categories,\n",
    "                             shuffle=True, random_state=42)"
   ]
  },
  {
   "cell_type": "code",
   "execution_count": 5,
   "metadata": {},
   "outputs": [
    {
     "name": "stdout",
     "output_type": "stream",
     "text": [
      "3387 documents\n",
      "4 categories\n",
      "\n"
     ]
    }
   ],
   "source": [
    "print(\"%d documents\" % len(dataset.data))\n",
    "print(\"%d categories\" % len(dataset.target_names))\n",
    "print()"
   ]
  },
  {
   "cell_type": "code",
   "execution_count": 6,
   "metadata": {
    "scrolled": true
   },
   "outputs": [
    {
     "name": "stdout",
     "output_type": "stream",
     "text": [
      "Extracting features from the training dataset using a sparse vectorizer\n",
      "n_samples: 3387, n_features: 43255\n",
      "\n"
     ]
    }
   ],
   "source": [
    "labels = dataset.target\n",
    "true_k = np.unique(labels).shape[0]\n",
    "\n",
    "print(\"Extracting features from the training dataset using a sparse vectorizer\")\n",
    "vectorizer = TfidfVectorizer(stop_words='english', use_idf=True)\n",
    "X = vectorizer.fit_transform(dataset.data)\n",
    "\n",
    "print(\"n_samples: %d, n_features: %d\" % X.shape)\n",
    "print()\n",
    "\n",
    "# table for results display\n",
    "table = []"
   ]
  },
  {
   "cell_type": "code",
   "execution_count": 7,
   "metadata": {
    "collapsed": true
   },
   "outputs": [],
   "source": [
    "# LSA for dimensionality reduction (and finding dense vectors)\n",
    "# LSA : 潜在意味解析\n",
    "if use_LSA:\n",
    "  print(\"Performing dimensionality reduction using LSA\")\n",
    "  svd = TruncatedSVD(n_components)\n",
    "  normalizer = Normalizer(copy=False)\n",
    "  lsa = make_pipeline(svd, normalizer)\n",
    "  X = lsa.fit_transform(X)\n",
    "\n",
    "  explained_variance = svd.explained_variance_ratio_.sum()\n",
    "  print(\"Explained variance of the SVD step: {}%\".format(\n",
    "      int(explained_variance * 100)))\n",
    "\n",
    "  print()"
   ]
  },
  {
   "cell_type": "markdown",
   "metadata": {},
   "source": [
    "### クラスタリングの評価指標一覧\n",
    "Homogeneity: 同値性\n",
    "Completeness: 完備性\n",
    "\n",
    "V-Measere: \n",
    "Adj Rand:\n",
    "Adj MI:\n",
    "Silhouette:"
   ]
  },
  {
   "cell_type": "code",
   "execution_count": 8,
   "metadata": {},
   "outputs": [
    {
     "name": "stdout",
     "output_type": "stream",
     "text": [
      "Clustering with KMeans(algorithm='auto', copy_x=True, init='k-means++', max_iter=300,\n",
      "    n_clusters=4, n_init=20, n_jobs=1, precompute_distances='auto',\n",
      "    random_state=None, tol=0.0001, verbose=0)\n",
      "\n",
      "Homogeneity: 0.351\n",
      "Completeness: 0.456\n",
      "V-measure: 0.397\n",
      "Adjusted Rand-Index: 0.270\n",
      "Adjusted Mututal Information: 0.350\n",
      "Silhouette Coefficient (euclidean): 0.006\n",
      "Silhouette Coefficient (cosine): 0.011\n",
      "\n"
     ]
    }
   ],
   "source": [
    "# K-Means clustering\n",
    "km = KMeans(n_clusters=true_k, init='k-means++', n_init=20)\n",
    "\n",
    "print(\"Clustering with %s\" % km)\n",
    "km.fit(X)\n",
    "print()\n",
    "\n",
    "table.append([\n",
    "    'k-means',\n",
    "    metrics.homogeneity_score(labels, km.labels_),\n",
    "    metrics.completeness_score(labels, km.labels_),\n",
    "    metrics.v_measure_score(labels, km.labels_),\n",
    "    metrics.adjusted_rand_score(labels, km.labels_),\n",
    "    metrics.adjusted_mutual_info_score(labels, km.labels_),\n",
    "    metrics.silhouette_score(X, km.labels_, metric='cosine')])\n",
    "\n",
    "print(\"Homogeneity: %0.3f\" % metrics.homogeneity_score(labels, km.labels_))\n",
    "print(\"Completeness: %0.3f\" % metrics.completeness_score(labels, km.labels_))\n",
    "print(\"V-measure: %0.3f\" % metrics.v_measure_score(labels, km.labels_))\n",
    "print(\"Adjusted Rand-Index: %.3f\"\n",
    "      % metrics.adjusted_rand_score(labels, km.labels_))\n",
    "print(\"Adjusted Mututal Information: %.3f\"\n",
    "      % metrics.adjusted_mutual_info_score(labels, km.labels_))\n",
    "print(\"Silhouette Coefficient (euclidean): %0.3f\"\n",
    "      % metrics.silhouette_score(X, km.labels_, metric='euclidean'))\n",
    "print(\"Silhouette Coefficient (cosine): %0.3f\"\n",
    "      % metrics.silhouette_score(X, km.labels_, metric='cosine'))\n",
    "\n",
    "print()"
   ]
  },
  {
   "cell_type": "code",
   "execution_count": 9,
   "metadata": {},
   "outputs": [
    {
     "name": "stdout",
     "output_type": "stream",
     "text": [
      "Clustering with SphericalKMeans(copy_x=True, init='k-means++', max_iter=300, n_clusters=4,\n",
      "        n_init=20, n_jobs=1, normalize=True, random_state=None, tol=0.0001,\n",
      "        verbose=0)\n",
      "\n",
      "Homogeneity: 0.645\n",
      "Completeness: 0.668\n",
      "V-measure: 0.656\n",
      "Adjusted Rand-Index: 0.661\n",
      "Adjusted Mututal Information: 0.644\n",
      "Silhouette Coefficient (euclidean): 0.006\n",
      "Silhouette Coefficient (cosine): 0.012\n",
      "\n"
     ]
    }
   ],
   "source": [
    "# Spherical K-Means clustering\n",
    "skm = SphericalKMeans(n_clusters=true_k, init='k-means++', n_init=20)\n",
    "\n",
    "print(\"Clustering with %s\" % skm)\n",
    "skm.fit(X)\n",
    "print()\n",
    "\n",
    "print(\"Homogeneity: %0.3f\" % metrics.homogeneity_score(labels, skm.labels_))\n",
    "print(\"Completeness: %0.3f\" % metrics.completeness_score(labels, skm.labels_))\n",
    "print(\"V-measure: %0.3f\" % metrics.v_measure_score(labels, skm.labels_))\n",
    "print(\"Adjusted Rand-Index: %.3f\"\n",
    "      % metrics.adjusted_rand_score(labels, skm.labels_))\n",
    "print(\"Adjusted Mututal Information: %.3f\"\n",
    "      % metrics.adjusted_mutual_info_score(labels, skm.labels_))\n",
    "print(\"Silhouette Coefficient (euclidean): %0.3f\"\n",
    "      % metrics.silhouette_score(X, skm.labels_, metric='euclidean'))\n",
    "print(\"Silhouette Coefficient (cosine): %0.3f\"\n",
    "      % metrics.silhouette_score(X, skm.labels_, metric='cosine'))\n",
    "\n",
    "print()\n",
    "\n",
    "table.append([\n",
    "    'spherical k-means',\n",
    "    metrics.homogeneity_score(labels, skm.labels_),\n",
    "    metrics.completeness_score(labels, skm.labels_),\n",
    "    metrics.v_measure_score(labels, skm.labels_),\n",
    "    metrics.adjusted_rand_score(labels, skm.labels_),\n",
    "    metrics.adjusted_mutual_info_score(labels, skm.labels_),\n",
    "    metrics.silhouette_score(X, skm.labels_, metric='cosine')])\n",
    "\n"
   ]
  },
  {
   "cell_type": "code",
   "execution_count": null,
   "metadata": {
    "collapsed": true
   },
   "outputs": [],
   "source": []
  }
 ],
 "metadata": {
  "kernelspec": {
   "display_name": "Python 3",
   "language": "python",
   "name": "python3"
  },
  "language_info": {
   "codemirror_mode": {
    "name": "ipython",
    "version": 3
   },
   "file_extension": ".py",
   "mimetype": "text/x-python",
   "name": "python",
   "nbconvert_exporter": "python",
   "pygments_lexer": "ipython3",
   "version": "3.6.1"
  }
 },
 "nbformat": 4,
 "nbformat_minor": 2
}
