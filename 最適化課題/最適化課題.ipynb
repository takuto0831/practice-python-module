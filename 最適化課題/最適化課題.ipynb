{
 "cells": [
  {
   "cell_type": "markdown",
   "metadata": {},
   "source": [
    "### 最適化理論特論　課題    \n",
    "                                      学籍番号 4414036  氏名  小坪琢人"
   ]
  },
  {
   "cell_type": "code",
   "execution_count": 15,
   "metadata": {
    "collapsed": true
   },
   "outputs": [],
   "source": [
    "import numpy as np\n",
    "from sympy import *\n",
    "import seaborn as sns\n",
    "import matplotlib.pyplot as plt\n",
    "%matplotlib inline"
   ]
  },
  {
   "cell_type": "markdown",
   "metadata": {},
   "source": [
    "課題の関数など必要な関数をそれぞれ定義する\n",
    "$$ f(x_1,x_2) = 10 (x_1^2 - x_2)^2 + (x_1 - 1)^2 $$"
   ]
  },
  {
   "cell_type": "code",
   "execution_count": 4,
   "metadata": {
    "collapsed": true
   },
   "outputs": [],
   "source": [
    "# 関数\n",
    "def f(x):\n",
    "    return 10*(x[0]**2 - x[1])**2 + (x[0] - 1)**2\n",
    "\n",
    "# 導関数\n",
    "def df(x):\n",
    "    return np.array([40*x[0]*(x[0]**2 - x[1]) + 2*x[0] - 2,\n",
    "                     -20*x[0]**2 + 20*x[1]])\n",
    "# ヘッセ行列\n",
    "def hesse(x):\n",
    "    return np.array([[float(120*x[0]**2 - 40*x[1] + 2),float(-40*x[0])],\n",
    "                     [float(-40*x[0]),20]])\n",
    "    \n",
    "# Armijo条件\n",
    "def armijo_method(x,d):\n",
    "    g,t = 0.1,0.5 # 初期条件\n",
    "    b = 1\n",
    "    while f(x+b*d) >= f(x) + g*b*(np.dot(df(x).T,d)):\n",
    "        b = b*t\n",
    "    return b\n",
    "\n",
    "# BFGS公式\n",
    "def BFGS(beta,tmp_new,tmp):\n",
    "    s = tmp_new - tmp\n",
    "    y = df(tmp_new) - df(tmp)\n",
    "    B_s,s_B_s,s_y = np.dot(beta,s),np.dot(np.dot(s.T,beta),s),np.dot(s.T,y)\n",
    "    tmp_beta = beta - np.dot(B_s,B_s.T)/s_B_s + np.dot(y,y.T)/s_y\n",
    "    return tmp_beta"
   ]
  },
  {
   "cell_type": "markdown",
   "metadata": {},
   "source": [
    "初期値, 正定値対称な初期行列をそれぞれ定義する\n",
    "$$\n",
    "x_0 = \n",
    "\\begin{bmatrix}\n",
    "0 \\\\\n",
    "2 \n",
    "\\end{bmatrix}\n",
    "$$\n",
    "\n",
    "$$\n",
    "\\beta_0 = \n",
    "\\begin{bmatrix}\n",
    "1 & -2 \\\\\n",
    "-2 & 6\n",
    "\\end{bmatrix}\n",
    "$$"
   ]
  },
  {
   "cell_type": "code",
   "execution_count": 5,
   "metadata": {
    "collapsed": true
   },
   "outputs": [],
   "source": [
    "# 初期値\n",
    "start_point = np.array([[0],[2]])\n",
    "# 正定値対称な初期行列\n",
    "start_beta = np.array([[1,-2],[-2,6]])"
   ]
  },
  {
   "cell_type": "markdown",
   "metadata": {},
   "source": [
    "最急降下法, ニュートン法, 準ニュートン法の関数をアルゴリズムに従って定義する."
   ]
  },
  {
   "cell_type": "code",
   "execution_count": 6,
   "metadata": {
    "collapsed": true
   },
   "outputs": [],
   "source": [
    "# 最急降下法\n",
    "def gradient_descent_method(point):\n",
    "    eps  = 1e-5 # 終了条件\n",
    "    tmp = point # 点の移動用\n",
    "    history = point # 数値を記録\n",
    "    iteration = 1000 # 最大繰り返し回数\n",
    "    \n",
    "    for i in range(iteration):\n",
    "        d = -df(tmp) # 探索方向\n",
    "        alpha = armijo_method(tmp,d) # ステップ幅\n",
    "        tmp_new = tmp + alpha*d\n",
    "        if np.abs(np.linalg.norm(tmp-tmp_new)) < eps:\n",
    "            break\n",
    "        tmp = tmp_new\n",
    "        history = np.concatenate([history,tmp],axis = 1)\n",
    "    return history.T\n",
    "\n",
    "# ニュートン法\n",
    "def newton_method(point):\n",
    "    eps  = 1e-5 # 終了条件\n",
    "    tmp = point # 点の移動用\n",
    "    history = point # 数値を記録\n",
    "    iteration = 1000 # 最大繰り返し回数\n",
    "    for i in range(iteration):\n",
    "        d = - np.dot(np.linalg.inv(hesse(tmp)),df(tmp)) # 探索方向\n",
    "        tmp_new = tmp + d\n",
    "        if np.abs(np.linalg.norm(tmp-tmp_new)) < eps:\n",
    "            break\n",
    "        tmp = tmp_new\n",
    "        history = np.concatenate([history,tmp],axis = 1)        \n",
    "    return history.T\n",
    "\n",
    "# 準ニュートン法\n",
    "def quasi_newton_method(point,beta):\n",
    "    eps  = 1e-5 # 終了条件\n",
    "    tmp = point # 点の移動用\n",
    "    tmp_b = beta # 正定値行列の変更用\n",
    "     \n",
    "    history = point # 数値を記録\n",
    "    iteration = 1000 # 最大繰り返し回数\n",
    "    \n",
    "    for i in range(iteration):\n",
    "        d = - np.dot(np.linalg.inv(tmp_b),df(tmp)) # 探索方向\n",
    "        alpha = armijo_method(tmp,d) # ステップ幅\n",
    "        tmp_new = tmp + alpha*d\n",
    "        if np.abs(np.linalg.norm(tmp-tmp_new)) < eps:\n",
    "            break\n",
    "        tmp_b = BFGS(tmp_b,tmp_new,tmp) # betaの更新\n",
    "        tmp = tmp_new\n",
    "        history = np.concatenate([history,tmp],axis = 1)        \n",
    "    return history.T"
   ]
  },
  {
   "cell_type": "code",
   "execution_count": 7,
   "metadata": {
    "collapsed": true
   },
   "outputs": [],
   "source": [
    "data_gradient = gradient_descent_method(start_point)\n",
    "data_newton = newton_method(start_point)\n",
    "data_quasi_newton = quasi_newton_method(start_point,start_beta)"
   ]
  },
  {
   "cell_type": "code",
   "execution_count": 26,
   "metadata": {},
   "outputs": [
    {
     "data": {
      "image/png": "[encoded data removed]",
      "text/plain": [
       "<matplotlib.figure.Figure at 0x156d25c0>"
      ]
     },
     "metadata": {},
     "output_type": "display_data"
    }
   ],
   "source": [
    "sns.plt.title('gradient descent')\n",
    "for i in range(len(data_gradient)):\n",
    "    plt.plot(i,f(data_gradient[i]),\"o\")"
   ]
  },
  {
   "cell_type": "code",
   "execution_count": 27,
   "metadata": {
    "scrolled": true
   },
   "outputs": [
    {
     "data": {
      "image/png": "[encoded data removed]",
      "text/plain": [
       "<matplotlib.figure.Figure at 0x1660a0b8>"
      ]
     },
     "metadata": {},
     "output_type": "display_data"
    }
   ],
   "source": [
    "sns.plt.title('newton method')\n",
    "for i in range(len(data_newton)):\n",
    "    plt.plot(i,f(data_newton[i]),\"o\")"
   ]
  },
  {
   "cell_type": "code",
   "execution_count": 28,
   "metadata": {},
   "outputs": [
    {
     "data": {
      "image/png": "[encoded data removed]",
      "text/plain": [
       "<matplotlib.figure.Figure at 0x16857e10>"
      ]
     },
     "metadata": {},
     "output_type": "display_data"
    }
   ],
   "source": [
    "sns.plt.title('quasi newton method')\n",
    "for i in range(len(data_quasi_newton)):\n",
    "    plt.plot(i,f(data_quasi_newton[i]),\"o\")"
   ]
  }
 ],
 "metadata": {
  "kernelspec": {
   "display_name": "Python 3",
   "language": "python",
   "name": "python3"
  },
  "language_info": {
   "codemirror_mode": {
    "name": "ipython",
    "version": 3
   },
   "file_extension": ".py",
   "mimetype": "text/x-python",
   "name": "python",
   "nbconvert_exporter": "python",
   "pygments_lexer": "ipython3",
   "version": "3.6.1"
  }
 },
 "nbformat": 4,
 "nbformat_minor": 2
}
